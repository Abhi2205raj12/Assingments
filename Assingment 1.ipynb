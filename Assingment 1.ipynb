{
 "cells": [
  {
   "cell_type": "markdown",
   "id": "c4d4faec-5d4e-4da8-b6cb-b0d658bb397b",
   "metadata": {},
   "source": [
    "Ques 1: Write all the conventions being followed while declaring a variable."
   ]
  },
  {
   "cell_type": "markdown",
   "id": "664b0603-ecaa-4fb5-acdd-e0cd8742132c",
   "metadata": {},
   "source": [
    "Answer:\n",
    "Variable naming rules:\n",
    "\n",
    "1. A variable name must start with a letter or an underscore character (_)\n",
    "2. A variable name cannot start with a digit\n",
    "3. A variable name can only contain alpha-numeric characters and underscores (a-z, A-Z, 0-9, and _ )\n",
    "4. Variable names are case-sensitive (age, Age and AGE are three different variables)\n",
    "5. There is no limit on the length of the variable name\n",
    "6. A variable name cannot contain spaces\n"
   ]
  },
  {
   "cell_type": "markdown",
   "id": "04fdc719-8823-4520-b97b-544fef90e68f",
   "metadata": {},
   "source": [
    "Ques 2: What will happen if we declare a restricted keyword as a variable?\n"
   ]
  },
  {
   "cell_type": "markdown",
   "id": "9f3c2ce0-6b79-41b9-a984-2e176a54165d",
   "metadata": {},
   "source": [
    "Answer: There is Syntax Error occur as outpu when we declare a restricted keyword as a verible."
   ]
  },
  {
   "cell_type": "markdown",
   "id": "7a06470d-277f-49eb-ba5e-ccb9b1242c26",
   "metadata": {},
   "source": [
    "Ques 3: Can we actually declare a string as a variable name? "
   ]
  },
  {
   "cell_type": "markdown",
   "id": "30dd4149-ad49-472e-9eaf-c8e4ae7e1caa",
   "metadata": {},
   "source": [
    "Answer: If we are given a string as input in our program, we can define a variable name with the string by adding the input string as a key into the symbol table. We can add a single character, numeric values, or strings as the associated value to the variable."
   ]
  },
  {
   "cell_type": "markdown",
   "id": "b38ce348-f1f3-4f6e-aee9-59ba31cfdf10",
   "metadata": {},
   "source": [
    "Ques 4: Is it possible for us to declare “_” as a variable? If so, then write an example of it."
   ]
  },
  {
   "cell_type": "markdown",
   "id": "5a916d0b-b0a1-48ac-8eaa-602b5b432857",
   "metadata": {},
   "source": [
    "Answer: Python automatically stores the value of the last expression in the interpreter to a particular variable called \"_.\" You can also assign these value to another variable if you want.\n"
   ]
  },
  {
   "cell_type": "code",
   "execution_count": 6,
   "id": "06f9b8df-2bf1-48e5-b504-4a7b726e1548",
   "metadata": {},
   "outputs": [
    {
     "data": {
      "text/plain": [
       "9"
      ]
     },
     "execution_count": 6,
     "metadata": {},
     "output_type": "execute_result"
    }
   ],
   "source": [
    "5+4\n"
   ]
  },
  {
   "cell_type": "code",
   "execution_count": 10,
   "id": "2057c050-70ab-4ae0-bb16-83c7bd32af1a",
   "metadata": {},
   "outputs": [],
   "source": [
    "_=5+4"
   ]
  },
  {
   "cell_type": "code",
   "execution_count": 11,
   "id": "9a16d1e1-8ff8-45d6-9396-0c0021e9ac0e",
   "metadata": {},
   "outputs": [
    {
     "data": {
      "text/plain": [
       "9"
      ]
     },
     "execution_count": 11,
     "metadata": {},
     "output_type": "execute_result"
    }
   ],
   "source": [
    "_\n"
   ]
  },
  {
   "cell_type": "markdown",
   "id": "c3391ccf-ccb4-4144-bebf-3318868f1a11",
   "metadata": {},
   "source": [
    "Ques 5: Using an example, explain how the variables in python are dynamic in nature."
   ]
  },
  {
   "cell_type": "markdown",
   "id": "e97eed42-73c7-4279-a922-60404774e213",
   "metadata": {},
   "source": [
    "Answer: Python is a dynamically typed language. It doesn’t know about the type of the variable until the code is run. So declaration is of no use. What it does is, It stores that value at some memory location and then binds that variable name to that memory container. And makes the contents of the container accessible through that variable name. So the data type does not matter. As it will get to know the type of the value at run-time."
   ]
  },
  {
   "cell_type": "markdown",
   "id": "c9772e22-d9eb-415a-abbf-bd7dc922c5d7",
   "metadata": {},
   "source": [
    "For Example:"
   ]
  },
  {
   "cell_type": "code",
   "execution_count": null,
   "id": "baa2ee21-4d89-4c0d-aedd-b5d357249791",
   "metadata": {},
   "outputs": [],
   "source": []
  }
 ],
 "metadata": {
  "kernelspec": {
   "display_name": "Python 3 (ipykernel)",
   "language": "python",
   "name": "python3"
  },
  "language_info": {
   "codemirror_mode": {
    "name": "ipython",
    "version": 3
   },
   "file_extension": ".py",
   "mimetype": "text/x-python",
   "name": "python",
   "nbconvert_exporter": "python",
   "pygments_lexer": "ipython3",
   "version": "3.10.8"
  }
 },
 "nbformat": 4,
 "nbformat_minor": 5
}
